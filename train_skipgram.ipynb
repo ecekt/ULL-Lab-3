{
 "cells": [
  {
   "cell_type": "code",
   "execution_count": 1,
   "metadata": {
    "collapsed": true
   },
   "outputs": [],
   "source": [
    "from gensim.models import Word2Vec\n",
    "from collections import Counter\n",
    "import pickle"
   ]
  },
  {
   "cell_type": "code",
   "execution_count": null,
   "metadata": {
    "collapsed": true
   },
   "outputs": [],
   "source": [
    "def read_file(dataset_en, dataset_fr):\n",
    "    #read the files\n",
    "    with open(dataset_en) as f:\n",
    "        sentences_en = [l.strip() for l in f.readlines()]\n",
    "    \n",
    "    with open(dataset_fr) as f:\n",
    "        sentences_fr = [l.strip() for l in f.readlines()]\n",
    "\n",
    "    sentence_list_en = []\n",
    "    sentence_list_fr = []\n",
    "    \n",
    "    no_sentences = len(sentences_en)\n",
    "    \n",
    "    for s in range(no_sentences):\n",
    "        \n",
    "        sent_en = sentences_en[s]\n",
    "        sent_fr = sentences_fr[s]\n",
    "        \n",
    "        split_sent_en = sent_en.split()\n",
    "        split_sent_fr = sent_fr.split()\n",
    "        \n",
    "        if len(split_sent_en) <= 50 and len(split_sent_fr) <= 50:\n",
    "            \n",
    "            sentence_list_en.append(split_sent_en)\n",
    "            sentence_list_fr.append(split_sent_fr)\n",
    "\n",
    "    return sentence_list_en, sentence_list_fr"
   ]
  },
  {
   "cell_type": "code",
   "execution_count": null,
   "metadata": {},
   "outputs": [],
   "source": [
    "sentences_en, sentences_fr = read_file('europarl/training.en','europarl/training.fr')\n",
    "\n",
    "with open('europarl_split.en.pickle', 'wb') as f:\n",
    "    pickle.dump(sentences_en, f)\n",
    "    \n",
    "with open('europarl_split.fr.pickle', 'wb') as f:\n",
    "    pickle.dump(sentences_fr, f)"
   ]
  },
  {
   "cell_type": "code",
   "execution_count": 2,
   "metadata": {
    "collapsed": true
   },
   "outputs": [],
   "source": [
    "def train_sg_model(sentences, label):\n",
    "    \n",
    "    #https://machinelearningmastery.com/develop-word-embeddings-python-gensim/\n",
    "    #https://radimrehurek.com/gensim/models/word2vec.html#id6\n",
    "        \n",
    "    # define training data\n",
    "    model = Word2Vec(sentences, min_count = 2, sg = 1, negative = 5, iter=10)\n",
    "    # summarize the loaded model\n",
    "    print(model)\n",
    "    # summarize vocabulary\n",
    "    words = list(model_en.wv.vocab)\n",
    "    print(words)\n",
    "    # access vector for one word\n",
    "    print(model['sentence'])\n",
    "    # save model\n",
    "    model.save_word2vec_format('model_'+label+'.bin')\n",
    "    \n",
    "    with open('words.'+label+'.pickle', 'wb') as f:\n",
    "        pickle.dump(words,f)\n",
    "    \n",
    "#     # load model\n",
    "#     loaded_model = Word2Vec.load('model_'+label+'.bin')\n",
    "#     print(loaded_model)\n",
    "    \n",
    "    return model, words"
   ]
  },
  {
   "cell_type": "code",
   "execution_count": null,
   "metadata": {},
   "outputs": [],
   "source": [
    "with open('europarl_split.en.pickle', 'rb') as f:\n",
    "    sentences_en = pickle.load(f)\n",
    "    \n",
    "model_en, words_en = train_sg_model(sentences_en, 'en')"
   ]
  },
  {
   "cell_type": "code",
   "execution_count": null,
   "metadata": {
    "collapsed": true
   },
   "outputs": [],
   "source": [
    "with open('europarl_split.fr.pickle', 'rb') as f:\n",
    "    sentences_fr = pickle.load(f)\n",
    "\n",
    "model_fr, words_fr = train_sg_model(sentences_fr, 'fr')"
   ]
  }
 ],
 "metadata": {
  "kernelspec": {
   "display_name": "Python [default]",
   "language": "python",
   "name": "python3"
  },
  "language_info": {
   "codemirror_mode": {
    "name": "ipython",
    "version": 3
   },
   "file_extension": ".py",
   "mimetype": "text/x-python",
   "name": "python",
   "nbconvert_exporter": "python",
   "pygments_lexer": "ipython3",
   "version": "3.6.3"
  }
 },
 "nbformat": 4,
 "nbformat_minor": 2
}
