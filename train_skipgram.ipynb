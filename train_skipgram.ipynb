{
 "cells": [
  {
   "cell_type": "code",
   "execution_count": 1,
   "metadata": {
    "collapsed": true
   },
   "outputs": [],
   "source": [
    "from gensim.models import Word2Vec\n",
    "from gensim.models import KeyedVectors\n",
    "from collections import Counter\n",
    "import pickle\n",
    "from datetime import datetime"
   ]
  },
  {
   "cell_type": "code",
   "execution_count": 2,
   "metadata": {
    "collapsed": true
   },
   "outputs": [],
   "source": [
    "def read_file(dataset_en, dataset_fr):\n",
    "    #read the files\n",
    "    with open(dataset_en) as f:\n",
    "        sentences_en = [l.strip() for l in f.readlines()]\n",
    "    \n",
    "    with open(dataset_fr) as f:\n",
    "        sentences_fr = [l.strip() for l in f.readlines()]\n",
    "\n",
    "    sentence_list_en = []\n",
    "    sentence_list_fr = []\n",
    "    \n",
    "    no_sentences = len(sentences_en)\n",
    "    \n",
    "    for s in range(no_sentences):\n",
    "        \n",
    "        sent_en = sentences_en[s]\n",
    "        sent_fr = sentences_fr[s]\n",
    "        \n",
    "        split_sent_en = sent_en.split()\n",
    "        split_sent_fr = sent_fr.split()\n",
    "        \n",
    "        if len(split_sent_en) <= 50 and len(split_sent_fr) <= 50:\n",
    "            \n",
    "            sentence_list_en.append(split_sent_en)\n",
    "            sentence_list_fr.append(split_sent_fr)\n",
    "\n",
    "    return sentence_list_en, sentence_list_fr"
   ]
  },
  {
   "cell_type": "code",
   "execution_count": null,
   "metadata": {},
   "outputs": [],
   "source": [
    "sentences_en, sentences_fr = read_file('europarl/training.en','europarl/training.fr')\n",
    "\n",
    "with open('europarl_split.en.pickle', 'wb') as f:\n",
    "    pickle.dump(sentences_en, f)\n",
    "    \n",
    "with open('europarl_split.fr.pickle', 'wb') as f:\n",
    "    pickle.dump(sentences_fr, f)"
   ]
  },
  {
   "cell_type": "code",
   "execution_count": 5,
   "metadata": {
    "collapsed": true
   },
   "outputs": [],
   "source": [
    "def train_sg_model(sentences, label, size, window, negative, iterations):\n",
    "    \n",
    "    #https://machinelearningmastery.com/develop-word-embeddings-python-gensim/\n",
    "    #https://radimrehurek.com/gensim/models/word2vec.html#id6\n",
    "        \n",
    "    # define training data\n",
    "    model = Word2Vec(sentences, size=size, window=window, min_count = 2, sg = 1, negative =negative, iter=iterations, workers=4)\n",
    "      \n",
    "    ext = label + '_' + str(size) + '_' +  str(window)+ '_'  + str(negative)+ '_' +  str(iterations)\n",
    "    \n",
    "    model.wv.save_word2vec_format('model_'+ext+'.bin')\n",
    "    \n",
    "    # summarize the model\n",
    "    print(model)\n",
    "    \n",
    "    # obtain the vocabulary\n",
    "    words = list(model.wv.vocab)\n",
    "    \n",
    "    with open('words.'+ext+'.pickle', 'wb') as f:\n",
    "        pickle.dump(words,f)\n",
    "        \n",
    "    return model, words"
   ]
  },
  {
   "cell_type": "code",
   "execution_count": 8,
   "metadata": {
    "collapsed": true
   },
   "outputs": [],
   "source": [
    "#no of sentences 1968355\n",
    "with open('europarl_split.en.pickle', 'rb') as f:\n",
    "    sentences_en = pickle.load(f)"
   ]
  },
  {
   "cell_type": "code",
   "execution_count": 11,
   "metadata": {},
   "outputs": [
    {
     "name": "stdout",
     "output_type": "stream",
     "text": [
      "300 5 5 10\n",
      "Word2Vec(vocab=77338, size=300, alpha=0.025)\n",
      "English skipgram 300_5_5_10 0:29:21.148644\n",
      "300 5 5 20\n",
      "Word2Vec(vocab=77338, size=300, alpha=0.025)\n",
      "English skipgram 300_5_5_20 0:56:47.911805\n"
     ]
    }
   ],
   "source": [
    "# size = [100,300]\n",
    "# window = [2,5]\n",
    "# neg_samples = [5,20]\n",
    "# iterations = [10,20]\n",
    "\n",
    "size = [300]\n",
    "window = [5]\n",
    "neg_samples = [5]\n",
    "iterations = [10,20]\n",
    "\n",
    "\n",
    "for s in size:\n",
    "    for w in window:\n",
    "        for n in neg_samples:\n",
    "            for i in iterations:\n",
    "\n",
    "                print(s,w,n,i)\n",
    "                ext = str(s) + '_' + str(w)+ '_'  + str(n)+ '_' +  str(i)\n",
    "    \n",
    "                then = datetime.now()\n",
    "                model_en, words_en = train_sg_model(sentences_en, label = 'en', size=s, window=w, negative=n, iterations=i)\n",
    "                    \n",
    "                now = datetime.now()\n",
    "\n",
    "                print('English skipgram',ext, now-then)"
   ]
  },
  {
   "cell_type": "code",
   "execution_count": 2,
   "metadata": {},
   "outputs": [
    {
     "name": "stdout",
     "output_type": "stream",
     "text": [
      "<gensim.models.keyedvectors.Word2VecKeyedVectors object at 0x7f3bf45710f0>\n"
     ]
    }
   ],
   "source": [
    "model_en = KeyedVectors.load_word2vec_format('model_en.bin')\n",
    "print(model_en)"
   ]
  }
 ],
 "metadata": {
  "kernelspec": {
   "display_name": "Python [conda env:py35]",
   "language": "python",
   "name": "conda-env-py35-py"
  },
  "language_info": {
   "codemirror_mode": {
    "name": "ipython",
    "version": 3
   },
   "file_extension": ".py",
   "mimetype": "text/x-python",
   "name": "python",
   "nbconvert_exporter": "python",
   "pygments_lexer": "ipython3",
   "version": "3.5.4"
  }
 },
 "nbformat": 4,
 "nbformat_minor": 2
}
